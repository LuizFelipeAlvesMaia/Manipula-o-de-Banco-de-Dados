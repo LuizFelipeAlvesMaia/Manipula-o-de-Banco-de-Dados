{
  "nbformat": 4,
  "nbformat_minor": 0,
  "metadata": {
    "colab": {
      "provenance": [],
      "authorship_tag": "ABX9TyPHB4ycfOdSBqYE57OEwVH9",
      "include_colab_link": true
    },
    "kernelspec": {
      "name": "python3",
      "display_name": "Python 3"
    },
    "language_info": {
      "name": "python"
    }
  },
  "cells": [
    {
      "cell_type": "markdown",
      "metadata": {
        "id": "view-in-github",
        "colab_type": "text"
      },
      "source": [
        "<a href=\"https://colab.research.google.com/github/LuizFelipeAlvesMaia/Manipulacao-de-Banco-de-Dados/blob/main/MANIPULAR_DB_PYTHON.ipynb\" target=\"_parent\"><img src=\"https://colab.research.google.com/assets/colab-badge.svg\" alt=\"Open In Colab\"/></a>"
      ]
    },
    {
      "cell_type": "code",
      "execution_count": null,
      "metadata": {
        "id": "_vSho5blAHWF"
      },
      "outputs": [],
      "source": [
        "#Importando o SQL lITE para o Python\n",
        "import sqlite3\n",
        "\n",
        "cam = sqlite3.connect('instituicao')\n",
        "#Criando tabela com auto increment da chave primaria\n",
        "cam.execute(\"CREATE TABLE alunos(matricula INTEGER  PRIMARY KEY AUTOINCREMENT, nome string, CPF INTEGER );\")\n",
        "\n",
        "print(\"Tabela criada!\")\n",
        "\n",
        "#Inserindo dados na tabela\n",
        "cam.execute(\"INSERT INTO alunos(nome, CPF) VALUES('Hermes Safadao',44);\")\n",
        "cam.commit\n",
        "\n",
        "\n",
        "cam.execute\n"
      ]
    },
    {
      "cell_type": "code",
      "source": [
        "#Conulta a tabela\n",
        "consulta = cam.execute('SELECT matricula, nome,CPF FROM alunos;')\n",
        "print(consulta)"
      ],
      "metadata": {
        "id": "uyzgxE6eAPQg"
      },
      "execution_count": null,
      "outputs": []
    },
    {
      "cell_type": "code",
      "source": [
        "linhas=consulta.fetchall()\n",
        "print(linhas)"
      ],
      "metadata": {
        "id": "cRIetxLYAR4g"
      },
      "execution_count": null,
      "outputs": []
    },
    {
      "cell_type": "code",
      "source": [
        "#Inserindo dados nom input \n",
        "nome = input(\"Digite o nome: \")\n",
        "cpf = input(\"Digite o CPF: \")\n",
        "cam.execute(\"INSERT INTO alunos(nome, CPF) VALUES(?,?)\",(nome,cpf))\n"
      ],
      "metadata": {
        "id": "-IwaExmfAVGC"
      },
      "execution_count": null,
      "outputs": []
    },
    {
      "cell_type": "code",
      "source": [
        "#cONSULTA A EMPREGADO\n",
        "consulta = con.execute('SELECT matricula, nome, CPF FROM alunos')\n",
        "linhas=consulta.fetchall()\n",
        "prints(linhas)"
      ],
      "metadata": {
        "id": "__rTxhcSAX1n"
      },
      "execution_count": null,
      "outputs": []
    },
    {
      "cell_type": "code",
      "source": [
        "EXERCICIO 1"
      ],
      "metadata": {
        "id": "AK1m4sJ5Aal1"
      },
      "execution_count": null,
      "outputs": []
    },
    {
      "cell_type": "code",
      "source": [
        "#Importando o SQL lITE para o Python\n",
        "import sqlite3\n",
        "\n",
        "cov = sqlite3.connect('pesquisa')\n",
        "#Criando tabela com auto increment da chave primaria\n",
        "cov.execute(\"CREATE TABLE casosCovid(id INTEGER PRIMARY KEY AUTOINCREMENT, paises string, casos INTEGER );\")\n",
        "cov.commit()"
      ],
      "metadata": {
        "id": "8rTBvp-1Adqb"
      },
      "execution_count": 3,
      "outputs": []
    },
    {
      "cell_type": "code",
      "source": [
        "#Importando biblioteca de requisição http\n",
        "import requests\n",
        "\n",
        "pais = input('Digite o pais que deseja pesquisar: ')\n",
        "\n",
        "#Importando o endpoint\n",
        "url = f'https://disease.sh/v3/covid-19/countries/{pais}'\n",
        "\n",
        "resposta = requests.get(url)\n",
        "\n",
        "if (resposta.status_code == 200):\n",
        "  casosDadosMundiais = float(resposta.json()['cases'])\n",
        "  casosFormatados = f'{casosDadosMundiais:_}'\n",
        "  casosFormatados = casosFormatados.replace('.', ',').replace('_', '.')\n",
        "  \n",
        "else:\n",
        "  print('Sua pesquisa falhou, tente novamente')\n",
        "\n",
        "\n",
        "#Inserindo dados na tabela\n",
        "cov.execute(\"INSERT INTO casosCovid(paises, casos) VALUES(?,?)\",(pais,casosFormatados))"
      ],
      "metadata": {
        "colab": {
          "base_uri": "https://localhost:8080/"
        },
        "id": "5sw-UQwhAkj1",
        "outputId": "a55875e7-afa0-44ab-e717-0ca94c8775fb"
      },
      "execution_count": 4,
      "outputs": [
        {
          "name": "stdout",
          "output_type": "stream",
          "text": [
            "Digite o pais que deseja pesquisar: brasil\n"
          ]
        },
        {
          "output_type": "execute_result",
          "data": {
            "text/plain": [
              "<sqlite3.Cursor at 0x7fb8ab949ea0>"
            ]
          },
          "metadata": {},
          "execution_count": 4
        }
      ]
    },
    {
      "cell_type": "code",
      "source": [
        "#Conulta a tabela\n",
        "consulta = cov.execute('SELECT paises, casos FROM casosCovid;')\n",
        "\n",
        "linhas=consulta.fetchall()\n",
        "print(linhas)"
      ],
      "metadata": {
        "colab": {
          "base_uri": "https://localhost:8080/"
        },
        "id": "vddDvrEdJ6dv",
        "outputId": "112a5b80-93ea-47e0-c842-39d5176c2220"
      },
      "execution_count": 5,
      "outputs": [
        {
          "output_type": "stream",
          "name": "stdout",
          "text": [
            "[('brasil', '36.371.609,0')]\n"
          ]
        }
      ]
    },
    {
      "cell_type": "code",
      "source": [
        "#Atualizando nome do pais na tabela\n",
        "cov.execute('UPDATE casosCovid SET paises = \"PaiseQualquer\" WHERE paises = \"BRASIL\" ')"
      ],
      "metadata": {
        "colab": {
          "base_uri": "https://localhost:8080/"
        },
        "id": "PreWDT9jAkoy",
        "outputId": "58e9d74d-873c-4447-9dd1-67c80a79f0ae"
      },
      "execution_count": 6,
      "outputs": [
        {
          "output_type": "execute_result",
          "data": {
            "text/plain": [
              "<sqlite3.Cursor at 0x7fb8ab949f10>"
            ]
          },
          "metadata": {},
          "execution_count": 6
        }
      ]
    }
  ]
}